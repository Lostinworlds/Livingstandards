{
 "cells": [
  {
   "cell_type": "markdown",
   "id": "045fd02a",
   "metadata": {},
   "source": [
    "# Processing data for living standards dashboard"
   ]
  },
  {
   "cell_type": "code",
   "execution_count": 1,
   "id": "68f7306d",
   "metadata": {},
   "outputs": [],
   "source": [
    "# for data handling\n",
    "import numpy as np \n",
    "import pandas as pd\n",
    "\n",
    "# for static graphs\n",
    "import matplotlib.pyplot as plt\n",
    "import seaborn as sns"
   ]
  },
  {
   "cell_type": "markdown",
   "id": "7ec87fe7",
   "metadata": {},
   "source": [
    "Defining functions to process"
   ]
  },
  {
   "cell_type": "code",
   "execution_count": 2,
   "id": "e37afae5",
   "metadata": {},
   "outputs": [],
   "source": [
    "def transpose (df): \n",
    "    df = df.drop([\"Unnamed: 65\",\"Indicator Name\", \"Indicator Code\", \"Country Code\"], axis = 1)\n",
    "    transpose = df.transpose()\n",
    "    return transpose"
   ]
  },
  {
   "cell_type": "code",
   "execution_count": 3,
   "id": "3e67d0be",
   "metadata": {},
   "outputs": [],
   "source": [
    "def transform (df): \n",
    "    df_transformed = df.rename(index ={\"Country Name\":\"Year\"})\n",
    "    df_transformed.columns = df_transformed.iloc[0]\n",
    "    df_transformed.drop(\"Year\", axis = 0, inplace = True)\n",
    "    df_transformed.index = pd.to_datetime(df_transformed.index, format = \"%Y\").year\n",
    "    \n",
    "    return df_transformed"
   ]
  },
  {
   "cell_type": "code",
   "execution_count": 4,
   "id": "614fe223",
   "metadata": {},
   "outputs": [],
   "source": [
    "def extract (main_df, orginal_df):\n",
    "    extract = main_df.loc[\"1990\":][[\"United States\", \"Japan\", \"Germany\"]]\n",
    "    extract = pd.melt(extract, value_vars=[\"United States\", \"Japan\", \"Germany\"], var_name= \"Country\", \n",
    "                      value_name =orginal_df[\"Indicator Name\"][0],  ignore_index = False)\n",
    "    return extract"
   ]
  },
  {
   "cell_type": "code",
   "execution_count": 5,
   "id": "73a4cd02",
   "metadata": {},
   "outputs": [],
   "source": [
    "def depict (df):\n",
    "    plt.figure(figsize=(15,4))\n",
    "    sns.barplot(x = df.index, y =df.iloc[:, 1] , hue = \"Country\", data= df )"
   ]
  },
  {
   "cell_type": "code",
   "execution_count": 6,
   "id": "6e590e51",
   "metadata": {
    "scrolled": false
   },
   "outputs": [
    {
     "data": {
      "text/html": [
       "<div>\n",
       "<style scoped>\n",
       "    .dataframe tbody tr th:only-of-type {\n",
       "        vertical-align: middle;\n",
       "    }\n",
       "\n",
       "    .dataframe tbody tr th {\n",
       "        vertical-align: top;\n",
       "    }\n",
       "\n",
       "    .dataframe thead th {\n",
       "        text-align: right;\n",
       "    }\n",
       "</style>\n",
       "<table border=\"1\" class=\"dataframe\">\n",
       "  <thead>\n",
       "    <tr style=\"text-align: right;\">\n",
       "      <th></th>\n",
       "      <th>Country</th>\n",
       "      <th>Intentional homicides (per 100,000 people)</th>\n",
       "    </tr>\n",
       "  </thead>\n",
       "  <tbody>\n",
       "    <tr>\n",
       "      <th>1990</th>\n",
       "      <td>United States</td>\n",
       "      <td>9.296355</td>\n",
       "    </tr>\n",
       "    <tr>\n",
       "      <th>1991</th>\n",
       "      <td>United States</td>\n",
       "      <td>9.704982</td>\n",
       "    </tr>\n",
       "    <tr>\n",
       "      <th>1992</th>\n",
       "      <td>United States</td>\n",
       "      <td>9.245474</td>\n",
       "    </tr>\n",
       "    <tr>\n",
       "      <th>1993</th>\n",
       "      <td>United States</td>\n",
       "      <td>9.450082</td>\n",
       "    </tr>\n",
       "    <tr>\n",
       "      <th>1994</th>\n",
       "      <td>United States</td>\n",
       "      <td>8.894865</td>\n",
       "    </tr>\n",
       "  </tbody>\n",
       "</table>\n",
       "</div>"
      ],
      "text/plain": [
       "            Country Intentional homicides (per 100,000 people)\n",
       "1990  United States                                   9.296355\n",
       "1991  United States                                   9.704982\n",
       "1992  United States                                   9.245474\n",
       "1993  United States                                   9.450082\n",
       "1994  United States                                   8.894865"
      ]
     },
     "execution_count": 6,
     "metadata": {},
     "output_type": "execute_result"
    }
   ],
   "source": [
    "# import Intentional homicides (per 100,000 people)  data\n",
    "# source - https://data.worldbank.org/indicator/VC.IHR.PSRC.P5\n",
    "crime = pd.read_csv(\"Crime.csv\", skiprows = 4)\n",
    "\n",
    "# Transform data \n",
    "crime_transposed = transpose(crime)\n",
    "crime_transform = transform(crime_transposed)\n",
    "crime_extract = extract(crime_transform, crime)\n",
    "\n",
    "# Save transformed data\n",
    "crime_extract.to_csv(\"crime_extract.csv\")\n",
    "\n",
    "# Overview of transformed data\n",
    "crime_extract.head()"
   ]
  },
  {
   "cell_type": "code",
   "execution_count": 7,
   "id": "bc177b6e",
   "metadata": {},
   "outputs": [
    {
     "data": {
      "image/png": "[encoded data removed]",
      "text/plain": [
       "<Figure size 1080x288 with 1 Axes>"
      ]
     },
     "metadata": {
      "needs_background": "light"
     },
     "output_type": "display_data"
    }
   ],
   "source": [
    "# Graph of crime data\n",
    "depict(crime_extract)"
   ]
  },
  {
   "cell_type": "code",
   "execution_count": 8,
   "id": "5ef59147",
   "metadata": {
    "scrolled": true
   },
   "outputs": [
    {
     "data": {
      "text/html": [
       "<div>\n",
       "<style scoped>\n",
       "    .dataframe tbody tr th:only-of-type {\n",
       "        vertical-align: middle;\n",
       "    }\n",
       "\n",
       "    .dataframe tbody tr th {\n",
       "        vertical-align: top;\n",
       "    }\n",
       "\n",
       "    .dataframe thead th {\n",
       "        text-align: right;\n",
       "    }\n",
       "</style>\n",
       "<table border=\"1\" class=\"dataframe\">\n",
       "  <thead>\n",
       "    <tr style=\"text-align: right;\">\n",
       "      <th></th>\n",
       "      <th>Country</th>\n",
       "      <th>GDP per capita (current US$)</th>\n",
       "    </tr>\n",
       "  </thead>\n",
       "  <tbody>\n",
       "    <tr>\n",
       "      <th>1990</th>\n",
       "      <td>United States</td>\n",
       "      <td>23888.600009</td>\n",
       "    </tr>\n",
       "    <tr>\n",
       "      <th>1991</th>\n",
       "      <td>United States</td>\n",
       "      <td>24342.258905</td>\n",
       "    </tr>\n",
       "    <tr>\n",
       "      <th>1992</th>\n",
       "      <td>United States</td>\n",
       "      <td>25418.990776</td>\n",
       "    </tr>\n",
       "    <tr>\n",
       "      <th>1993</th>\n",
       "      <td>United States</td>\n",
       "      <td>26387.293734</td>\n",
       "    </tr>\n",
       "    <tr>\n",
       "      <th>1994</th>\n",
       "      <td>United States</td>\n",
       "      <td>27694.853416</td>\n",
       "    </tr>\n",
       "  </tbody>\n",
       "</table>\n",
       "</div>"
      ],
      "text/plain": [
       "            Country GDP per capita (current US$)\n",
       "1990  United States                 23888.600009\n",
       "1991  United States                 24342.258905\n",
       "1992  United States                 25418.990776\n",
       "1993  United States                 26387.293734\n",
       "1994  United States                 27694.853416"
      ]
     },
     "execution_count": 8,
     "metadata": {},
     "output_type": "execute_result"
    }
   ],
   "source": [
    "# import GDP per capita data\n",
    "# source -https://data.worldbank.org/indicator/NY.GDP.PCAP.CD?view=chart\n",
    "gdp = pd.read_csv(\"GDP.csv\", skiprows=4)\n",
    "\n",
    "# Transform data \n",
    "gdp_transposed = transpose(gdp)\n",
    "gdp_transform = transform(gdp_transposed)\n",
    "gdp_extract = extract(gdp_transform, gdp)\n",
    "\n",
    "# Save transformed data\n",
    "gdp_extract.to_csv(\"gdp_extract.csv\")\n",
    "\n",
    "# Overview of transformed data\n",
    "gdp_extract.head()"
   ]
  },
  {
   "cell_type": "code",
   "execution_count": 9,
   "id": "523a0d9b",
   "metadata": {},
   "outputs": [
    {
     "data": {
      "image/png": "[encoded data removed]",
      "text/plain": [
       "<Figure size 1080x288 with 1 Axes>"
      ]
     },
     "metadata": {
      "needs_background": "light"
     },
     "output_type": "display_data"
    }
   ],
   "source": [
    "# Graph of GDP data\n",
    "depict(gdp_extract)"
   ]
  },
  {
   "cell_type": "code",
   "execution_count": 10,
   "id": "7b5ced2d",
   "metadata": {},
   "outputs": [
    {
     "data": {
      "text/html": [
       "<div>\n",
       "<style scoped>\n",
       "    .dataframe tbody tr th:only-of-type {\n",
       "        vertical-align: middle;\n",
       "    }\n",
       "\n",
       "    .dataframe tbody tr th {\n",
       "        vertical-align: top;\n",
       "    }\n",
       "\n",
       "    .dataframe thead th {\n",
       "        text-align: right;\n",
       "    }\n",
       "</style>\n",
       "<table border=\"1\" class=\"dataframe\">\n",
       "  <thead>\n",
       "    <tr style=\"text-align: right;\">\n",
       "      <th></th>\n",
       "      <th>Country</th>\n",
       "      <th>Life expectancy at birth, total (years)</th>\n",
       "    </tr>\n",
       "  </thead>\n",
       "  <tbody>\n",
       "    <tr>\n",
       "      <th>1990</th>\n",
       "      <td>United States</td>\n",
       "      <td>75.214634</td>\n",
       "    </tr>\n",
       "    <tr>\n",
       "      <th>1991</th>\n",
       "      <td>United States</td>\n",
       "      <td>75.365854</td>\n",
       "    </tr>\n",
       "    <tr>\n",
       "      <th>1992</th>\n",
       "      <td>United States</td>\n",
       "      <td>75.617073</td>\n",
       "    </tr>\n",
       "    <tr>\n",
       "      <th>1993</th>\n",
       "      <td>United States</td>\n",
       "      <td>75.419512</td>\n",
       "    </tr>\n",
       "    <tr>\n",
       "      <th>1994</th>\n",
       "      <td>United States</td>\n",
       "      <td>75.619512</td>\n",
       "    </tr>\n",
       "  </tbody>\n",
       "</table>\n",
       "</div>"
      ],
      "text/plain": [
       "            Country Life expectancy at birth, total (years)\n",
       "1990  United States                               75.214634\n",
       "1991  United States                               75.365854\n",
       "1992  United States                               75.617073\n",
       "1993  United States                               75.419512\n",
       "1994  United States                               75.619512"
      ]
     },
     "execution_count": 10,
     "metadata": {},
     "output_type": "execute_result"
    }
   ],
   "source": [
    "# import Life expectancy at birth, total (years) data\n",
    "# source -  https://data.worldbank.org/indicator/SP.DYN.LE00.IN?view=chart\n",
    "life_exp = pd.read_csv(\"life expectancy.csv\", skiprows= 4)\n",
    "\n",
    "# Transform data \n",
    "life_exp_transposed = transpose(life_exp)\n",
    "life_exp_transform = transform(life_exp_transposed)\n",
    "life_exp_extract = extract(life_exp_transform, life_exp)\n",
    "\n",
    "# Save transformed data\n",
    "life_exp_extract.to_csv(\"life_exp_extract.csv\")\n",
    "\n",
    "# Overview of transformed data\n",
    "life_exp_extract.head()"
   ]
  },
  {
   "cell_type": "code",
   "execution_count": 11,
   "id": "69f6b467",
   "metadata": {},
   "outputs": [
    {
     "data": {
      "image/png": "[encoded data removed]",
      "text/plain": [
       "<Figure size 1080x288 with 1 Axes>"
      ]
     },
     "metadata": {
      "needs_background": "light"
     },
     "output_type": "display_data"
    }
   ],
   "source": [
    "# Graph of life expectancy data\n",
    "depict(life_exp_extract)"
   ]
  },
  {
   "cell_type": "code",
   "execution_count": 12,
   "id": "b025cc48",
   "metadata": {},
   "outputs": [],
   "source": [
    "# import Working hours needed to exit poverty data\n",
    "#source - https://data.oecd.org/emp/hours-worked.htm#\n",
    "Exit_poverty = pd.read_csv(\"Working hours needed to exit poverty.csv\")\n",
    "\n",
    "# change column name for uniformity\n",
    "Exit_poverty.rename(columns= {\"LOCATION\":\"Country Code\"}, inplace = True)"
   ]
  },
  {
   "cell_type": "code",
   "execution_count": 13,
   "id": "d362d911",
   "metadata": {},
   "outputs": [],
   "source": [
    "# make a country name and country code table\n",
    "countries = pd.read_csv(\"Crime.csv\", skiprows = 4)\n",
    "country_codes =countries[[\"Country Name\", \"Country Code\"]].drop_duplicates()"
   ]
  },
  {
   "cell_type": "code",
   "execution_count": 14,
   "id": "f3b1db8a",
   "metadata": {},
   "outputs": [
    {
     "data": {
      "text/html": [
       "<div>\n",
       "<style scoped>\n",
       "    .dataframe tbody tr th:only-of-type {\n",
       "        vertical-align: middle;\n",
       "    }\n",
       "\n",
       "    .dataframe tbody tr th {\n",
       "        vertical-align: top;\n",
       "    }\n",
       "\n",
       "    .dataframe thead th {\n",
       "        text-align: right;\n",
       "    }\n",
       "</style>\n",
       "<table border=\"1\" class=\"dataframe\">\n",
       "  <thead>\n",
       "    <tr style=\"text-align: right;\">\n",
       "      <th></th>\n",
       "      <th>Country Code</th>\n",
       "      <th>INDICATOR</th>\n",
       "      <th>SUBJECT</th>\n",
       "      <th>MEASURE</th>\n",
       "      <th>FREQUENCY</th>\n",
       "      <th>TIME</th>\n",
       "      <th>Value</th>\n",
       "      <th>Flag Codes</th>\n",
       "      <th>Country Name</th>\n",
       "    </tr>\n",
       "  </thead>\n",
       "  <tbody>\n",
       "    <tr>\n",
       "      <th>0</th>\n",
       "      <td>AUS</td>\n",
       "      <td>WORKEXPOV</td>\n",
       "      <td>SNGLNOCHLD</td>\n",
       "      <td>HR_AVEWAGE</td>\n",
       "      <td>A</td>\n",
       "      <td>2001</td>\n",
       "      <td>6</td>\n",
       "      <td>NaN</td>\n",
       "      <td>Australia</td>\n",
       "    </tr>\n",
       "    <tr>\n",
       "      <th>1</th>\n",
       "      <td>AUS</td>\n",
       "      <td>WORKEXPOV</td>\n",
       "      <td>SNGLNOCHLD</td>\n",
       "      <td>HR_AVEWAGE</td>\n",
       "      <td>A</td>\n",
       "      <td>2002</td>\n",
       "      <td>8</td>\n",
       "      <td>NaN</td>\n",
       "      <td>Australia</td>\n",
       "    </tr>\n",
       "    <tr>\n",
       "      <th>2</th>\n",
       "      <td>AUS</td>\n",
       "      <td>WORKEXPOV</td>\n",
       "      <td>SNGLNOCHLD</td>\n",
       "      <td>HR_AVEWAGE</td>\n",
       "      <td>A</td>\n",
       "      <td>2003</td>\n",
       "      <td>9</td>\n",
       "      <td>NaN</td>\n",
       "      <td>Australia</td>\n",
       "    </tr>\n",
       "    <tr>\n",
       "      <th>3</th>\n",
       "      <td>AUS</td>\n",
       "      <td>WORKEXPOV</td>\n",
       "      <td>SNGLNOCHLD</td>\n",
       "      <td>HR_AVEWAGE</td>\n",
       "      <td>A</td>\n",
       "      <td>2004</td>\n",
       "      <td>11</td>\n",
       "      <td>NaN</td>\n",
       "      <td>Australia</td>\n",
       "    </tr>\n",
       "    <tr>\n",
       "      <th>4</th>\n",
       "      <td>AUS</td>\n",
       "      <td>WORKEXPOV</td>\n",
       "      <td>SNGLNOCHLD</td>\n",
       "      <td>HR_AVEWAGE</td>\n",
       "      <td>A</td>\n",
       "      <td>2005</td>\n",
       "      <td>13</td>\n",
       "      <td>NaN</td>\n",
       "      <td>Australia</td>\n",
       "    </tr>\n",
       "  </tbody>\n",
       "</table>\n",
       "</div>"
      ],
      "text/plain": [
       "  Country Code  INDICATOR     SUBJECT     MEASURE FREQUENCY  TIME  Value  \\\n",
       "0          AUS  WORKEXPOV  SNGLNOCHLD  HR_AVEWAGE         A  2001      6   \n",
       "1          AUS  WORKEXPOV  SNGLNOCHLD  HR_AVEWAGE         A  2002      8   \n",
       "2          AUS  WORKEXPOV  SNGLNOCHLD  HR_AVEWAGE         A  2003      9   \n",
       "3          AUS  WORKEXPOV  SNGLNOCHLD  HR_AVEWAGE         A  2004     11   \n",
       "4          AUS  WORKEXPOV  SNGLNOCHLD  HR_AVEWAGE         A  2005     13   \n",
       "\n",
       "   Flag Codes Country Name  \n",
       "0         NaN    Australia  \n",
       "1         NaN    Australia  \n",
       "2         NaN    Australia  \n",
       "3         NaN    Australia  \n",
       "4         NaN    Australia  "
      ]
     },
     "execution_count": 14,
     "metadata": {},
     "output_type": "execute_result"
    }
   ],
   "source": [
    "# merge country_codes table to Exit_poverty table\n",
    "result = pd.merge(Exit_poverty, country_codes, how = \"left\", on=\"Country Code\")\n",
    "result.head()"
   ]
  },
  {
   "cell_type": "code",
   "execution_count": 15,
   "id": "77302a50",
   "metadata": {},
   "outputs": [],
   "source": [
    "# save table\n",
    "result.to_csv(\"Exit_poverty.csv\")"
   ]
  },
  {
   "cell_type": "code",
   "execution_count": null,
   "id": "f03a3fcc",
   "metadata": {},
   "outputs": [],
   "source": []
  }
 ],
 "metadata": {
  "kernelspec": {
   "display_name": "Python 3 (ipykernel)",
   "language": "python",
   "name": "python3"
  },
  "language_info": {
   "codemirror_mode": {
    "name": "ipython",
    "version": 3
   },
   "file_extension": ".py",
   "mimetype": "text/x-python",
   "name": "python",
   "nbconvert_exporter": "python",
   "pygments_lexer": "ipython3",
   "version": "3.9.7"
  }
 },
 "nbformat": 4,
 "nbformat_minor": 5
}
